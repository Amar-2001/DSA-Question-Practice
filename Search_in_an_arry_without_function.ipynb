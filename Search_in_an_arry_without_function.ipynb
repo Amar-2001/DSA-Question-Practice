{
  "nbformat": 4,
  "nbformat_minor": 0,
  "metadata": {
    "colab": {
      "provenance": []
    },
    "kernelspec": {
      "name": "python3",
      "display_name": "Python 3"
    },
    "language_info": {
      "name": "python"
    }
  },
  "cells": [
    {
      "cell_type": "code",
      "execution_count": null,
      "metadata": {
        "id": "Gv2zk4bMOxGn"
      },
      "outputs": [],
      "source": [
        "#include<iostream>\n",
        "#include<conio.h>\n",
        "using namespace std;\n",
        "int main()\n",
        "{\n",
        "\tint n,flag=0,index;\n",
        "\tcout<<\"Enter size of elements = \";\n",
        "\tcin>>n;\n",
        "\tint arr[n];\n",
        "\tcout<<\"Enter array : \";\n",
        "\tfor(int i=0;i<n;i++)\n",
        "\t{\n",
        "\t\tcin>>arr[i];\n",
        "\t}\n",
        "\n",
        "\tint key;\n",
        "\tcout<<\"Enter key elements = \";\n",
        "\tcin>>key;\n",
        "\n",
        "\tfor(int i=0;i<n;i++)\n",
        "\t{\n",
        "\t\tif(arr[i]==key)\n",
        "\t\t{\n",
        "//\t\t\tcout<<\"Element found at \"<<i<<\"th index.\";\n",
        " \t\t\tflag=1;\n",
        " \t\t\tindex=i;//taaki index ka pata chal sake\n",
        "\t\t\tbreak;\n",
        "\t\t}\n",
        "//\t\telse if(arr[])\n",
        "//\t\telse\n",
        "//\t\t{\n",
        "//\t\t\tcout<<\"Element didn't found in the array.\";\n",
        "//\t\t} //printing everytime when condition is false\n",
        "\n",
        "//         else\n",
        "//         {\n",
        "//         \tflag=1;\n",
        "//\t\t } everytime when above condition false then flag mein 1 aa raha\n",
        "\n",
        "\t}\n",
        "//\tif(flag==1)\n",
        "//\tcout<<\"Element didn't found in the array.\"; //print because else condition mein 1 aa raha\n",
        "//  until desired condtion is true so in python for else loop is built.no its false in python\n",
        "//for else isliye aaya kyunki agar loop pura chala tab hi for ka else wala part execute karega\n",
        "//other wise nahi .\n",
        "\n",
        "\n",
        " \tif(flag==1)\n",
        "\t cout<<\"Element found at \"<<index<<\"th index.\";\n",
        "\telse\n",
        "\t cout<<\"Element didn't found.\";\n",
        "\n",
        "\n",
        "\tgetch();\n",
        "\treturn 0;\n",
        "}"
      ]
    }
  ]
}