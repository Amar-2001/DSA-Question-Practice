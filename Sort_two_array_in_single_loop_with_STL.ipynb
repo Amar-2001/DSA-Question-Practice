{
  "nbformat": 4,
  "nbformat_minor": 0,
  "metadata": {
    "colab": {
      "provenance": []
    },
    "kernelspec": {
      "name": "python3",
      "display_name": "Python 3"
    },
    "language_info": {
      "name": "python"
    }
  },
  "cells": [
    {
      "cell_type": "code",
      "execution_count": null,
      "metadata": {
        "id": "YfcTUv8NrivO"
      },
      "outputs": [],
      "source": [
        "#include<iostream>\n",
        "#include<conio.h>\n",
        "#include<algorithm>\n",
        "using namespace std;\n",
        "int main()\n",
        "{\n",
        "\tint n,flag=0;\n",
        "\n",
        "\n",
        "\tint arr1[]={1,2,5,4,0};\n",
        "\tint arr2[]={2,5,4,0,1};\n",
        "\n",
        "\tn=sizeof(arr1)/sizeof(arr1[0]);\n",
        "    int m=sizeof(arr2)/sizeof(arr2[0]);\n",
        "\n",
        "    sort(arr1,arr1+n);\n",
        "    sort(arr2,arr2+m);\n",
        "\n",
        "//    for(int i=0;i<n;i++)\n",
        "//    {\n",
        "//    \tcout<<arr1[i]<<endl;\n",
        "//    \tcout<<arr2[i]<<endl;\n",
        "//\t}\n",
        "//\n",
        "\n",
        "\n",
        "\t for(int i=0;i<n;i++)\n",
        "\t {\n",
        "\t \tif(arr1[i]==arr2[i])\n",
        "\t \t{\n",
        "\t \t\tflag=1;\n",
        "\t\t }\n",
        "\t\t else\n",
        "\t\t {\n",
        "\t\t \tflag=0;\n",
        "\t\t \tbreak; //agar ek bhi element match nahi kare toh seedha break kar jaaye\n",
        "\t\t \t      //kyunki agar iske aage wala match kiya then usme toh 1 aa jayega\n",
        "\t\t \t      //isliye ek bhi element match nahi karne par seedha break jaaye.\n",
        "\n",
        "\t\t }\n",
        "\t }\n",
        "\n",
        "\t if(flag==1)\n",
        "\t {\n",
        "\t \tcout<<\"Two arrays are equal \";\n",
        "\t }\n",
        "\telse\n",
        "\tcout<<\"Two arrays are not equal.\";\n",
        "\n",
        "\tgetch();\n",
        "}"
      ]
    }
  ]
}