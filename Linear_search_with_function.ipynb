{
  "nbformat": 4,
  "nbformat_minor": 0,
  "metadata": {
    "colab": {
      "provenance": []
    },
    "kernelspec": {
      "name": "python3",
      "display_name": "Python 3"
    },
    "language_info": {
      "name": "python"
    }
  },
  "cells": [
    {
      "cell_type": "code",
      "execution_count": null,
      "metadata": {
        "id": "eHU6kIbxTit_"
      },
      "outputs": [],
      "source": [
        "#include<iostream>\n",
        "#include<conio.h>\n",
        "using namespace std;\n",
        "\n",
        "LinSearch(int n, int array[],int key)\n",
        "{\n",
        "\n",
        "\tfor(int i=0;i<n;i++)\n",
        "\t{\n",
        "\t\tif(array[i]==key)\n",
        "\t\t{\n",
        "\t\t\treturn i;\n",
        "\t\t}\n",
        "\t}\n",
        "\n",
        "\treturn -1; //-1 means nothing ( 1 2 3 4 ..means True 0 means False -1 -2 -3 .. means nothing)\n",
        "\n",
        "}\n",
        "\n",
        "int main()\n",
        "{\n",
        "\tint n;\n",
        "\tcout<<\"Enter size : \";\n",
        "\tcin>>n;\n",
        "\n",
        "\tint arr[n];\n",
        "\tcout<<\"\\nEnter array elements = \";\n",
        "\tfor(int i=0;i<n;i++)\n",
        "\t{\n",
        "\t\tcin>>arr[i];\n",
        "\t}\n",
        "\n",
        "\tint key;\n",
        "\tcout<<\"Enter key elements : \";\n",
        "\tcin>>key;\n",
        "\n",
        "\tcout<<LinSearch(n,arr,key);//printing Linsearch\n",
        "\n",
        "\tgetch();\n",
        "}"
      ]
    }
  ]
}